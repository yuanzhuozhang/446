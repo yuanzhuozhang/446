{
 "cells": [
  {
   "cell_type": "code",
   "execution_count": null,
   "id": "2ee442b5-f9f8-4962-88a6-94ca6851016a",
   "metadata": {},
   "outputs": [],
   "source": []
  },
  {
   "cell_type": "code",
   "execution_count": 1,
   "id": "ad3dbf9a-6734-4d87-86b0-b4e61221119d",
   "metadata": {},
   "outputs": [],
   "source": [
    "import pandas as pd\n",
    "#import gspread\n",
    "from oauth2client.service_account import ServiceAccountCredentials\n",
    "#from google.api_core.datetime_helpers import DatetimeWithNanoseconds\n",
    "from datetime import datetime\n",
    "from twilio.rest import Client"
   ]
  },
  {
   "cell_type": "code",
   "execution_count": 5,
   "id": "65da4ef8-715b-42c3-bb29-ccb3cfa740df",
   "metadata": {},
   "outputs": [],
   "source": [
    "scope = ['https://spreadsheets.google.com/feeds','https://www.googleapis.com/auth/drive']\n",
    "creds = ServiceAccountCredentials .from_json_keyfile_name('GS_creds.json', scope)\n",
    "client = gspread.authorize(creds)\n",
    "sheet = client.open('Lecture10').sheet1"
   ]
  },
  {
   "cell_type": "markdown",
   "id": "4cda7135-6894-49cc-b71c-21edabfc5e6f",
   "metadata": {},
   "source": [
    "# Reading Data"
   ]
  },
  {
   "cell_type": "code",
   "execution_count": 17,
   "id": "4ebedcf4-4cff-4245-84ca-bc01e9303f5c",
   "metadata": {},
   "outputs": [],
   "source": [
    "val = sheet.cell(1,1).value"
   ]
  },
  {
   "cell_type": "code",
   "execution_count": 18,
   "id": "e157ea77-3664-47be-b644-416e1831f00c",
   "metadata": {},
   "outputs": [
    {
     "data": {
      "text/plain": [
       "'Hello'"
      ]
     },
     "execution_count": 18,
     "metadata": {},
     "output_type": "execute_result"
    }
   ],
   "source": [
    "val"
   ]
  },
  {
   "cell_type": "code",
   "execution_count": 19,
   "id": "c1e0e14a-1a0d-47af-add8-f8f9a937323a",
   "metadata": {},
   "outputs": [
    {
     "data": {
      "text/plain": [
       "['Hello', 'World', '!']"
      ]
     },
     "execution_count": 19,
     "metadata": {},
     "output_type": "execute_result"
    }
   ],
   "source": [
    "sheet.row_values(1)"
   ]
  },
  {
   "cell_type": "code",
   "execution_count": 22,
   "id": "45543bea-2f3a-495f-ae98-693f5c9a79c4",
   "metadata": {},
   "outputs": [
    {
     "data": {
      "text/plain": [
       "[['Hello', 'World', '!', ''],\n",
       " ['', 'no', '', ''],\n",
       " ['', '', '', ''],\n",
       " ['', '', '', ''],\n",
       " ['', '', '', '1234'],\n",
       " ['', '', '', ''],\n",
       " ['', '', '', ''],\n",
       " ['', '', '', ''],\n",
       " ['dsfghstrhjtrs', '', '', '']]"
      ]
     },
     "execution_count": 22,
     "metadata": {},
     "output_type": "execute_result"
    }
   ],
   "source": [
    "sheet.get_all_values()"
   ]
  },
  {
   "cell_type": "code",
   "execution_count": 23,
   "id": "19a089fe-cc24-4f88-8b70-a2185834e0f8",
   "metadata": {},
   "outputs": [
    {
     "data": {
      "text/plain": [
       "<Cell R9C1 'dsfghstrhjtrs'>"
      ]
     },
     "execution_count": 23,
     "metadata": {},
     "output_type": "execute_result"
    }
   ],
   "source": [
    "sheet.find(\"dsfghstrhjtrs\")"
   ]
  },
  {
   "cell_type": "markdown",
   "id": "1d795fe6-67d8-4278-a0b4-38ff3a9dc5ba",
   "metadata": {},
   "source": [
    "# Write Data"
   ]
  },
  {
   "cell_type": "code",
   "execution_count": 24,
   "id": "57f800b9-318e-4edb-8ece-acdb3be77c89",
   "metadata": {},
   "outputs": [
    {
     "data": {
      "text/plain": [
       "{'spreadsheetId': '1fjm8gthM2Vn2kHVNQjPfSipu13V8xLI_GQjWE1r6jMg',\n",
       " 'clearedRange': 'Sheet1!A1:Z1000'}"
      ]
     },
     "execution_count": 24,
     "metadata": {},
     "output_type": "execute_result"
    }
   ],
   "source": [
    "sheet.clear()"
   ]
  },
  {
   "cell_type": "code",
   "execution_count": 26,
   "id": "e301f74a-dbad-4cfb-8e37-59c84a4e9ffe",
   "metadata": {},
   "outputs": [
    {
     "data": {
      "text/plain": [
       "{'spreadsheetId': '1fjm8gthM2Vn2kHVNQjPfSipu13V8xLI_GQjWE1r6jMg',\n",
       " 'updatedRange': 'Sheet1!B1',\n",
       " 'updatedRows': 1,\n",
       " 'updatedColumns': 1,\n",
       " 'updatedCells': 1}"
      ]
     },
     "execution_count": 26,
     "metadata": {},
     "output_type": "execute_result"
    }
   ],
   "source": [
    "sheet.update_cell(1,2, \"AUTOMATION\")"
   ]
  },
  {
   "cell_type": "code",
   "execution_count": 28,
   "id": "165de402-517c-4e4f-a83c-70d5f90b1d6e",
   "metadata": {},
   "outputs": [
    {
     "name": "stderr",
     "output_type": "stream",
     "text": [
      "/var/folders/2h/qlkjym5s6x91gkbp7cxjfxqh0000gn/T/ipykernel_62011/2971481360.py:1: DeprecationWarning: The order of arguments in worksheet.update() has changed. Please pass values first and range_name secondor used named arguments (range_name=, values=)\n",
      "  sheet.update(\"A1:B2\",[[\"v\",\"x\"],[\"y\",\"z\"]] )\n"
     ]
    },
    {
     "data": {
      "text/plain": [
       "{'spreadsheetId': '1fjm8gthM2Vn2kHVNQjPfSipu13V8xLI_GQjWE1r6jMg',\n",
       " 'updatedRange': 'Sheet1!A1:B2',\n",
       " 'updatedRows': 2,\n",
       " 'updatedColumns': 2,\n",
       " 'updatedCells': 4}"
      ]
     },
     "execution_count": 28,
     "metadata": {},
     "output_type": "execute_result"
    }
   ],
   "source": [
    "sheet.update(\"A1:B2\",[[\"v\",\"x\"],[\"y\",\"z\"]] )"
   ]
  },
  {
   "cell_type": "markdown",
   "id": "77d7097b-c4ac-4be1-ac6c-352517a40428",
   "metadata": {},
   "source": [
    "# Adding release data to Google"
   ]
  },
  {
   "cell_type": "code",
   "execution_count": 50,
   "id": "90147174-b7a9-4883-984e-085490c67530",
   "metadata": {},
   "outputs": [
    {
     "data": {
      "text/plain": [
       "{'spreadsheetId': '1fjm8gthM2Vn2kHVNQjPfSipu13V8xLI_GQjWE1r6jMg',\n",
       " 'tableRange': 'Sheet1!A1:E2',\n",
       " 'updates': {'spreadsheetId': '1fjm8gthM2Vn2kHVNQjPfSipu13V8xLI_GQjWE1r6jMg',\n",
       "  'updatedRange': 'Sheet1!A3:E3',\n",
       "  'updatedRows': 1,\n",
       "  'updatedColumns': 5,\n",
       "  'updatedCells': 5}}"
      ]
     },
     "execution_count": 50,
     "metadata": {},
     "output_type": "execute_result"
    }
   ],
   "source": [
    "url = \"https://www.finra.org/rules-guidance/key-topics/margin-accounts/margin-statistics\"\n",
    "dfs = pd.read_html(url)[0]\n",
    "data = dfs.iloc[0,:]\n",
    "\n",
    "row = list(data)\n",
    "row = [str(i) for i in row]\n",
    "today = str(datetime.today().date())\n",
    "row = [[today] + row]\n",
    "\n",
    "sheet.append_rows(row)\n"
   ]
  },
  {
   "cell_type": "markdown",
   "id": "ba82f2d3-735e-445e-a7c5-d5dc5a71136e",
   "metadata": {},
   "source": [
    "# Text me when the release changes"
   ]
  },
  {
   "cell_type": "code",
   "execution_count": 54,
   "id": "ac4df0d9-da21-4fbb-8a72-99b91b3bdb2f",
   "metadata": {},
   "outputs": [],
   "source": [
    "old_num = sheet.get_all_values()[-2][2]\n",
    "new_num = sheet.get_all_values()[-1][2]"
   ]
  },
  {
   "cell_type": "code",
   "execution_count": 60,
   "id": "657c5cb0-f85f-4d2f-abc6-202e2944e401",
   "metadata": {},
   "outputs": [
    {
     "name": "stdout",
     "output_type": "stream",
     "text": [
      "Messge : SM4565ff99f663c37ed2aad5ef69167229\n"
     ]
    }
   ],
   "source": [
    "ACCOUNT_SID = \"\"\n",
    "AUTH_TOKEN = \"\"\n",
    "\n",
    "client = Client(ACCOUNT_SID,AUTH_TOKEN)\n",
    "\n",
    "recipients = [\"+13109755351\"]\n",
    "\n",
    "message = client.messages.create(\n",
    "    to = recipients,\n",
    "    from_ = \"+14248423165\",\n",
    "    body = \"There has been a change in the Debit report! Old value =\" + str(old_num) + \"New value\" + str(new_num)\n",
    ")\n",
    "\n",
    "print(f\"Messge : {message.sid}\")"
   ]
  },
  {
   "cell_type": "code",
   "execution_count": null,
   "id": "fbc4b630-c589-4279-bdde-9391ca607718",
   "metadata": {},
   "outputs": [],
   "source": []
  },
  {
   "cell_type": "markdown",
   "id": "897721b4-d95c-4abc-98b9-77f1f06205ea",
   "metadata": {},
   "source": [
    "# Make as a cloud function"
   ]
  },
  {
   "cell_type": "code",
   "execution_count": 61,
   "id": "71a67418-2a4b-4866-bce3-d5f67b5a5947",
   "metadata": {},
   "outputs": [],
   "source": [
    "import pandas as pd\n",
    "import gspread\n",
    "from oauth2client.service_account import ServiceAccountCredentials\n",
    "from google.api_core.datetime_helpers import DatetimeWithNanoseconds\n",
    "from datetime import datetime\n",
    "from twilio.rest import Client\n",
    "\n",
    "\n",
    "def send_text(old_num, new_num):\n",
    "    ACCOUNT_SID = \"ACfb1be2d3042ce3d3a2d4a4910e2c332f\"\n",
    "    AUTH_TOKEN = \"11961686c414682b6a15df105751216b\"\n",
    "    \n",
    "    client = Client(ACCOUNT_SID,AUTH_TOKEN)\n",
    "    \n",
    "    recipients = [\"+13109755351\"]\n",
    "    \n",
    "    message = client.messages.create(\n",
    "        to = recipients,\n",
    "        from_ = \"+14248423165\",\n",
    "        body = \"There has been a change in the Debit report! Old value =\" + str(old_num) + \"New value\" + str(new_num)\n",
    "    )\n",
    "    \n",
    "    print(f\"Messge : {message.sid}\")\n",
    "\n",
    "\n",
    "def cloud_func(request):\n",
    "    url = \"https://www.finra.org/rules-guidance/key-topics/margin-accounts/margin-statistics\"\n",
    "    dfs = pd.read_html(url)[0]\n",
    "    data = dfs.iloc[0,:]\n",
    "\n",
    "    scope = ['https://spreadsheets.google.com/feeds','https://www.googleapis.com/auth/drive']\n",
    "    creds = ServiceAccountCredentials .from_json_keyfile_name('GS_creds.json', scope)\n",
    "    client = gspread.authorize(creds)\n",
    "    sheet = client.open('Lecture10').sheet1\n",
    "    \n",
    "    row = list(data)\n",
    "    row = [str(i) for i in row]\n",
    "    today = str(datetime.today().date())\n",
    "    row = [[today] + row]\n",
    "    \n",
    "    sheet.append_rows(row)\n",
    "\n",
    "    old_num = sheet.get_all_values()[-2][2]\n",
    "    new_num = sheet.get_all_values()[-1][2]\n",
    "    if old_num != new_num:\n",
    "        send_text(old_num, new_num)\n",
    "    return(\"YAY!\")"
   ]
  },
  {
   "cell_type": "code",
   "execution_count": null,
   "id": "5d620e96-a4a5-4b01-a80f-2494fd22a74a",
   "metadata": {},
   "outputs": [],
   "source": []
  },
  {
   "cell_type": "code",
   "execution_count": 2,
   "id": "47aceabf-9e4e-4a43-9057-b4ef6a11d1bb",
   "metadata": {},
   "outputs": [],
   "source": [
    "import session_info"
   ]
  },
  {
   "cell_type": "code",
   "execution_count": 3,
   "id": "af13e5a5-391a-4015-aa50-9b1691949365",
   "metadata": {},
   "outputs": [
    {
     "data": {
      "text/html": [
       "<details>\n",
       "<summary>Click to view session information</summary>\n",
       "<pre>\n",
       "-----\n",
       "oauth2client        4.1.3\n",
       "pandas              2.1.4\n",
       "session_info        1.0.0\n",
       "twilio              9.1.0\n",
       "-----\n",
       "</pre>\n",
       "<details>\n",
       "<summary>Click to view modules imported as dependencies</summary>\n",
       "<pre>\n",
       "CoreFoundation              NA\n",
       "Crypto                      3.20.0\n",
       "Foundation                  NA\n",
       "OpenSSL                     24.0.0\n",
       "PyObjCTools                 NA\n",
       "anyio                       NA\n",
       "appnope                     0.1.2\n",
       "arrow                       1.2.3\n",
       "asttokens                   NA\n",
       "attr                        23.2.0\n",
       "attrs                       23.2.0\n",
       "babel                       2.11.0\n",
       "bcrypt                      3.2.0\n",
       "bottleneck                  1.3.7\n",
       "brotli                      1.0.9\n",
       "certifi                     2024.02.02\n",
       "cffi                        1.16.0\n",
       "chardet                     4.0.0\n",
       "charset_normalizer          2.0.4\n",
       "cloudpickle                 2.2.1\n",
       "colorama                    0.4.6\n",
       "comm                        0.1.2\n",
       "cryptography                42.0.2\n",
       "cython_runtime              NA\n",
       "dateutil                    2.8.2\n",
       "debugpy                     1.6.7\n",
       "decorator                   5.1.1\n",
       "executing                   0.8.3\n",
       "fastjsonschema              NA\n",
       "fqdn                        NA\n",
       "google                      NA\n",
       "httplib2                    0.22.0\n",
       "idna                        3.4\n",
       "ipykernel                   6.28.0\n",
       "isoduration                 NA\n",
       "jedi                        0.18.1\n",
       "jinja2                      3.1.3\n",
       "json5                       NA\n",
       "jsonpointer                 2.1\n",
       "jsonschema                  4.19.2\n",
       "jsonschema_specifications   NA\n",
       "jupyter_events              0.8.0\n",
       "jupyter_server              2.10.0\n",
       "jupyterlab_server           2.25.1\n",
       "markupsafe                  2.1.3\n",
       "nbformat                    5.9.2\n",
       "numexpr                     2.8.7\n",
       "numpy                       1.26.4\n",
       "objc                        9.0\n",
       "overrides                   NA\n",
       "packaging                   23.1\n",
       "parso                       0.8.3\n",
       "pexpect                     4.8.0\n",
       "pickleshare                 0.7.5\n",
       "pkg_resources               NA\n",
       "platformdirs                3.10.0\n",
       "prometheus_client           NA\n",
       "prompt_toolkit              3.0.43\n",
       "psutil                      5.9.0\n",
       "ptyprocess                  0.7.0\n",
       "pure_eval                   0.2.2\n",
       "pyarrow                     14.0.2\n",
       "pyasn1                      0.4.8\n",
       "pyasn1_modules              0.2.8\n",
       "pycparser                   2.21\n",
       "pydev_ipython               NA\n",
       "pydevconsole                NA\n",
       "pydevd                      2.9.5\n",
       "pydevd_file_utils           NA\n",
       "pydevd_plugins              NA\n",
       "pydevd_tracing              NA\n",
       "pygments                    2.15.1\n",
       "pyparsing                   3.0.9\n",
       "pythonjsonlogger            NA\n",
       "pytz                        2023.3.post1\n",
       "referencing                 NA\n",
       "requests                    2.31.0\n",
       "rfc3339_validator           0.1.4\n",
       "rfc3986_validator           0.1.1\n",
       "rpds                        NA\n",
       "rsa                         4.9\n",
       "ruamel                      NA\n",
       "send2trash                  NA\n",
       "setuptools                  68.2.2\n",
       "six                         1.16.0\n",
       "sniffio                     1.3.0\n",
       "socks                       1.7.1\n",
       "sphinxcontrib               NA\n",
       "stack_data                  0.2.0\n",
       "tornado                     6.3.3\n",
       "traitlets                   5.7.1\n",
       "typing_extensions           NA\n",
       "uri_template                NA\n",
       "urllib3                     2.0.7\n",
       "wcwidth                     0.2.5\n",
       "webcolors                   1.13\n",
       "websocket                   0.58.0\n",
       "yaml                        6.0.1\n",
       "zmq                         25.1.2\n",
       "zope                        NA\n",
       "zstandard                   0.19.0\n",
       "</pre>\n",
       "</details> <!-- seems like this ends pre, so might as well be explicit -->\n",
       "<pre>\n",
       "-----\n",
       "IPython             8.20.0\n",
       "jupyter_client      8.6.0\n",
       "jupyter_core        5.5.0\n",
       "jupyterlab          4.0.11\n",
       "notebook            7.0.8\n",
       "-----\n",
       "Python 3.11.7 (main, Dec 15 2023, 12:09:56) [Clang 14.0.6 ]\n",
       "macOS-13.5-arm64-arm-64bit\n",
       "-----\n",
       "Session information updated at 2024-06-04 11:16\n",
       "</pre>\n",
       "</details>"
      ],
      "text/plain": [
       "<IPython.core.display.HTML object>"
      ]
     },
     "execution_count": 3,
     "metadata": {},
     "output_type": "execute_result"
    }
   ],
   "source": [
    "session_info.show()"
   ]
  },
  {
   "cell_type": "code",
   "execution_count": null,
   "id": "bb42892d-d6a9-4105-bcca-4c36eccd385a",
   "metadata": {},
   "outputs": [],
   "source": []
  },
  {
   "cell_type": "code",
   "execution_count": null,
   "id": "212bee43-afaa-4091-9fa0-92106e6f1de2",
   "metadata": {},
   "outputs": [],
   "source": []
  },
  {
   "cell_type": "code",
   "execution_count": null,
   "id": "4ce9fda5-e731-4cc2-be41-8b56be457667",
   "metadata": {},
   "outputs": [],
   "source": []
  },
  {
   "cell_type": "code",
   "execution_count": null,
   "id": "efe6d8b9-2ed2-419f-8168-0121fda532b5",
   "metadata": {},
   "outputs": [],
   "source": []
  }
 ],
 "metadata": {
  "kernelspec": {
   "display_name": "Python 3 (ipykernel)",
   "language": "python",
   "name": "python3"
  },
  "language_info": {
   "codemirror_mode": {
    "name": "ipython",
    "version": 3
   },
   "file_extension": ".py",
   "mimetype": "text/x-python",
   "name": "python",
   "nbconvert_exporter": "python",
   "pygments_lexer": "ipython3",
   "version": "3.8.5"
  }
 },
 "nbformat": 4,
 "nbformat_minor": 5
}
