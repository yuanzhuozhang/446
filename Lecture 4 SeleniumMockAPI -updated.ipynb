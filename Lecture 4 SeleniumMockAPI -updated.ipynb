{
 "cells": [
  {
   "cell_type": "markdown",
   "id": "0d43e462",
   "metadata": {},
   "source": [
    "# 1.) Selenium Example"
   ]
  },
  {
   "cell_type": "code",
   "execution_count": 1,
   "id": "af513697",
   "metadata": {},
   "outputs": [],
   "source": [
    "# Test Selenium is Necessary"
   ]
  },
  {
   "cell_type": "code",
   "execution_count": 17,
   "id": "0709272d-4f49-4414-abdd-573087b65472",
   "metadata": {},
   "outputs": [],
   "source": [
    "import time"
   ]
  },
  {
   "cell_type": "code",
   "execution_count": 2,
   "id": "331d1a72",
   "metadata": {},
   "outputs": [],
   "source": [
    "from bs4 import BeautifulSoup\n",
    "import requests\n",
    "import pandas as pd\n",
    "\n",
    "def lovely_soup(u):\n",
    "    page = requests.get(u)\n",
    "    return(BeautifulSoup(page.content, 'html.parser'))"
   ]
  },
  {
   "cell_type": "code",
   "execution_count": 3,
   "id": "bc870a40",
   "metadata": {},
   "outputs": [],
   "source": [
    "URL = \"https://ec.europa.eu/eurostat\""
   ]
  },
  {
   "cell_type": "code",
   "execution_count": 6,
   "id": "67c54a2b",
   "metadata": {},
   "outputs": [],
   "source": [
    "soup = lovely_soup(URL)"
   ]
  },
  {
   "cell_type": "markdown",
   "id": "47a5316f-c868-44eb-a616-fd7c78ae2bc2",
   "metadata": {},
   "source": [
    "# Search with attribute dictionary"
   ]
  },
  {
   "cell_type": "code",
   "execution_count": null,
   "id": "34fa66e1-7be2-4f16-89a7-9140dbf076d2",
   "metadata": {},
   "outputs": [],
   "source": [
    "# Search by any parameter\n",
    "soup.findAll(attrs = {\"data-ecl-auto-init\" : \"SiteHeader\"})"
   ]
  },
  {
   "cell_type": "code",
   "execution_count": null,
   "id": "ac89bc84-578f-4e42-afe3-84d8d358e606",
   "metadata": {},
   "outputs": [],
   "source": [
    "# Search by multible paramters\n",
    "soup.findAll(attrs = {\"data-ecl-auto-init\" : \"SiteHeader\",\n",
    "                     \"class\" : \"ecl-site-header\"})"
   ]
  },
  {
   "cell_type": "code",
   "execution_count": null,
   "id": "c56f0df0-1b12-40aa-9fd9-2eb3bd39bb9e",
   "metadata": {},
   "outputs": [],
   "source": []
  },
  {
   "cell_type": "code",
   "execution_count": 11,
   "id": "45543b5d-f3c4-43d2-bc03-544196b89a80",
   "metadata": {},
   "outputs": [
    {
     "data": {
      "text/plain": [
       "[<span id=\"gdp-growth-value\">0.0</span>]"
      ]
     },
     "execution_count": 11,
     "metadata": {},
     "output_type": "execute_result"
    }
   ],
   "source": [
    "soup.findAll(attrs = {\"id\" : \"gdp-growth-value\"})\n"
   ]
  },
  {
   "cell_type": "code",
   "execution_count": null,
   "id": "314fd2d1-4ea9-4722-ab52-988aa1b57d97",
   "metadata": {},
   "outputs": [],
   "source": [
    "\n"
   ]
  },
  {
   "cell_type": "markdown",
   "id": "fec71203-cff3-4a38-afd6-3de0b9b22c82",
   "metadata": {},
   "source": [
    "# With Selenium"
   ]
  },
  {
   "cell_type": "code",
   "execution_count": 26,
   "id": "8ad68038-dcf1-4a4f-b747-5f7ad756b1d6",
   "metadata": {},
   "outputs": [],
   "source": [
    "from selenium.webdriver.common.by import By\n",
    "from selenium import webdriver\n",
    "from selenium.webdriver.chrome.service import Service\n",
    "from webdriver_manager.chrome import ChromeDriverManager\n",
    "\n",
    "import selenium\n",
    "from selenium import webdriver\n",
    "from selenium.webdriver.common.keys import Keys\n",
    "options = webdriver.ChromeOptions()\n",
    "service = Service(ChromeDriverManager().install())\n",
    "driver = webdriver.Chrome(service=service, options=options)"
   ]
  },
  {
   "cell_type": "code",
   "execution_count": 27,
   "id": "934a1edc-83a9-403d-8c78-e5bcaba7cda5",
   "metadata": {},
   "outputs": [],
   "source": [
    "driver.get(URL)"
   ]
  },
  {
   "cell_type": "code",
   "execution_count": null,
   "id": "2b3dbbaf-4fa2-46a6-ab47-01239b04d17f",
   "metadata": {},
   "outputs": [],
   "source": [
    "time.sleep(5)"
   ]
  },
  {
   "cell_type": "code",
   "execution_count": 21,
   "id": "1db650e8-06db-40a3-a2f1-e9693e1c5840",
   "metadata": {},
   "outputs": [],
   "source": [
    "gdp = driver.find_element(By.ID, \"gdp-growth-value\")"
   ]
  },
  {
   "cell_type": "code",
   "execution_count": 23,
   "id": "dc188033-036d-4f7c-a7a6-b37576f1f829",
   "metadata": {},
   "outputs": [
    {
     "data": {
      "text/plain": [
       "'0.3'"
      ]
     },
     "execution_count": 23,
     "metadata": {},
     "output_type": "execute_result"
    }
   ],
   "source": [
    "gdp.get_attribute(\"textContent\")"
   ]
  },
  {
   "cell_type": "code",
   "execution_count": null,
   "id": "da61f687-0cdf-440a-8459-f7da4a2b2279",
   "metadata": {},
   "outputs": [],
   "source": []
  },
  {
   "cell_type": "code",
   "execution_count": 12,
   "id": "80506d65",
   "metadata": {},
   "outputs": [],
   "source": [
    "driver.quit()"
   ]
  },
  {
   "cell_type": "code",
   "execution_count": null,
   "id": "7cc9afde-6d43-40d1-af54-dad5c792d2cd",
   "metadata": {},
   "outputs": [],
   "source": []
  },
  {
   "cell_type": "code",
   "execution_count": null,
   "id": "4aef986f",
   "metadata": {},
   "outputs": [],
   "source": []
  },
  {
   "cell_type": "code",
   "execution_count": null,
   "id": "aa7e1e6d-0289-4323-83e3-5d5247407152",
   "metadata": {},
   "outputs": [],
   "source": []
  },
  {
   "cell_type": "markdown",
   "id": "6b31b680",
   "metadata": {},
   "source": [
    "# 2.) Mock API Example"
   ]
  },
  {
   "cell_type": "code",
   "execution_count": 32,
   "id": "ab7bb131",
   "metadata": {},
   "outputs": [],
   "source": [
    "# return Current euro inflation or GDP\n",
    "def eurostat(input):\n",
    "    options = webdriver.ChromeOptions()\n",
    "    service = Service(ChromeDriverManager().install())\n",
    "    driver = webdriver.Chrome(service=service, options=options)\n",
    "    URL = \"https://ec.europa.eu/eurostat\"\n",
    "    driver.get(URL)\n",
    "    time.sleep(5)\n",
    "    if input == \"GDP\" : \n",
    "        gdp = driver.find_element(By.ID, \"gdp-growth-value\")\n",
    "        return(gdp.get_attribute(\"textContent\"))\n",
    "    elif input == \"INF\":\n",
    "        inf = driver.find_element(By.ID, \"inflation-rate-value\")\n",
    "        return(inf.get_attribute(\"textContent\"))\n",
    "\n",
    "    "
   ]
  },
  {
   "cell_type": "code",
   "execution_count": 35,
   "id": "773c03b2",
   "metadata": {},
   "outputs": [
    {
     "data": {
      "text/plain": [
       "'2.6'"
      ]
     },
     "execution_count": 35,
     "metadata": {},
     "output_type": "execute_result"
    }
   ],
   "source": [
    "eurostat(\"INF\")"
   ]
  },
  {
   "cell_type": "code",
   "execution_count": 34,
   "id": "cbf1e48f",
   "metadata": {},
   "outputs": [],
   "source": [
    "driver.quit()"
   ]
  },
  {
   "cell_type": "code",
   "execution_count": null,
   "id": "e7221929",
   "metadata": {},
   "outputs": [],
   "source": []
  },
  {
   "cell_type": "code",
   "execution_count": null,
   "id": "60d49f6d",
   "metadata": {},
   "outputs": [],
   "source": []
  },
  {
   "cell_type": "code",
   "execution_count": null,
   "id": "92bf841d",
   "metadata": {},
   "outputs": [],
   "source": []
  },
  {
   "cell_type": "code",
   "execution_count": null,
   "id": "e762d4d2",
   "metadata": {},
   "outputs": [],
   "source": []
  }
 ],
 "metadata": {
  "kernelspec": {
   "display_name": "Python 3 (ipykernel)",
   "language": "python",
   "name": "python3"
  },
  "language_info": {
   "codemirror_mode": {
    "name": "ipython",
    "version": 3
   },
   "file_extension": ".py",
   "mimetype": "text/x-python",
   "name": "python",
   "nbconvert_exporter": "python",
   "pygments_lexer": "ipython3",
   "version": "3.11.7"
  }
 },
 "nbformat": 4,
 "nbformat_minor": 5
}
